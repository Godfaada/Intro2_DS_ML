{
 "cells": [
  {
   "cell_type": "markdown",
   "id": "03ad91f3",
   "metadata": {},
   "source": [
    "ASSIGNMENT FOR WEEK 1"
   ]
  },
  {
   "cell_type": "markdown",
   "id": "c197738f",
   "metadata": {},
   "source": [
    "Import the dataset \"umsatzdaten_gekuerzt.csv\", which you can download via the following link:\n",
    "https://raw.githubusercontent.com/opencampus-sh/einfuehrung-in-data-science-und-ml/main/wetter.csv\n",
    "\n",
    "Calculate the overall average temperature.\n",
    "\n",
    "Calculate the average temperature for the month of July.\n",
    "\n",
    "Compare whether the months of July and May differ significantly in their average temperature.\n"
   ]
  },
  {
   "cell_type": "code",
   "execution_count": 2,
   "id": "5dafcef1",
   "metadata": {},
   "outputs": [],
   "source": [
    "import pandas as pd\n",
    "import matplotlib.pyplot as plt\n"
   ]
  },
  {
   "cell_type": "code",
   "execution_count": 6,
   "id": "7dfa7c72",
   "metadata": {},
   "outputs": [],
   "source": [
    "file_path = \"/Users/godfather/Desktop/DS_ML/Intro2_DS_ML/data/raw/wetter.csv\" \n",
    "\n",
    "df = pd.read_csv(file_path)\n"
   ]
  },
  {
   "cell_type": "code",
   "execution_count": null,
   "id": "8695bc63",
   "metadata": {},
   "outputs": [
    {
     "name": "stdout",
     "output_type": "stream",
     "text": [
      "        Datum  Bewoelkung  Temperatur  Windgeschwindigkeit  Wettercode\n",
      "0  2012-01-01         8.0      9.8250                   14        58.0\n",
      "1  2012-01-02         7.0      7.4375                   12         NaN\n",
      "2  2012-01-03         8.0      5.5375                   18        63.0\n",
      "3  2012-01-04         4.0      5.6875                   19        80.0\n",
      "4  2012-01-05         6.0      5.3000                   23        80.0\n",
      "<class 'pandas.core.frame.DataFrame'>\n",
      "RangeIndex: 2601 entries, 0 to 2600\n",
      "Data columns (total 5 columns):\n",
      " #   Column               Non-Null Count  Dtype  \n",
      "---  ------               --------------  -----  \n",
      " 0   Datum                2601 non-null   object \n",
      " 1   Bewoelkung           2591 non-null   float64\n",
      " 2   Temperatur           2601 non-null   float64\n",
      " 3   Windgeschwindigkeit  2601 non-null   int64  \n",
      " 4   Wettercode           1932 non-null   float64\n",
      "dtypes: float64(3), int64(1), object(1)\n",
      "memory usage: 101.7+ KB\n",
      "None\n",
      "        Bewoelkung   Temperatur  Windgeschwindigkeit   Wettercode\n",
      "count  2591.000000  2601.000000          2601.000000  1932.000000\n",
      "mean      4.805866    12.099586            11.191080    37.484472\n",
      "std       2.578299     7.174357             4.124693    27.567144\n",
      "min       0.000000   -10.250000             3.000000     0.000000\n",
      "25%       3.000000     6.512500             8.000000    10.000000\n",
      "50%       6.000000    12.000000            10.000000    28.000000\n",
      "75%       7.000000    17.825000            14.000000    61.000000\n",
      "max       8.000000    32.671428            35.000000    95.000000\n"
     ]
    }
   ],
   "source": [
    "#Quick look at data\n",
    "print(df.head())\n",
    "print(df.info())\n",
    "print(df.describe())\n",
    "\n"
   ]
  },
  {
   "cell_type": "code",
   "execution_count": 12,
   "id": "a4773466",
   "metadata": {},
   "outputs": [
    {
     "name": "stdout",
     "output_type": "stream",
     "text": [
      "Datum                    0\n",
      "Bewoelkung              10\n",
      "Temperatur               0\n",
      "Windgeschwindigkeit      0\n",
      "Wettercode             669\n",
      "dtype: int64\n"
     ]
    }
   ],
   "source": [
    "#Check for missing values\n",
    "print(df.isnull().sum())"
   ]
  },
  {
   "cell_type": "code",
   "execution_count": 13,
   "id": "711c17aa",
   "metadata": {},
   "outputs": [
    {
     "name": "stdout",
     "output_type": "stream",
     "text": [
      "Overall Average Temperature: 12.10 °C\n"
     ]
    }
   ],
   "source": [
    "#Calculating the Overall average teemperature\n",
    "overall_avg_temp = df['Temperatur'].mean()\n",
    "print(f\"Overall Average Temperature: {overall_avg_temp:.2f} °C\")"
   ]
  },
  {
   "cell_type": "code",
   "execution_count": 17,
   "id": "820ad373",
   "metadata": {},
   "outputs": [
    {
     "name": "stdout",
     "output_type": "stream",
     "text": [
      "Average Temperature in July: 20.75 °C\n"
     ]
    }
   ],
   "source": [
    "# Convert 'Datum' column to datetime\n",
    "df['Datum'] = pd.to_datetime(df['Datum'])   #selects the Datum (Date) column from the DataFrame.\n",
    "\n",
    "# Filter July data\n",
    "july_data = df[df['Datum'].dt.month == 7]\n",
    "july_avg_temp = july_data['Temperatur'].mean()\n",
    "print(f\"Average Temperature in July: {july_avg_temp:.2f} °C\")\n"
   ]
  },
  {
   "cell_type": "code",
   "execution_count": 18,
   "id": "b63c2072",
   "metadata": {},
   "outputs": [
    {
     "name": "stdout",
     "output_type": "stream",
     "text": [
      "Average Temperature in July: 15.24 °C\n"
     ]
    }
   ],
   "source": [
    "may_data = df[df['Datum'].dt.month == 5]\n",
    "may_avg_temp = may_data['Temperatur'].mean()\n",
    "print(f\"Average Temperature in July: {may_avg_temp:.2f} °C\")"
   ]
  },
  {
   "cell_type": "code",
   "execution_count": 19,
   "id": "4260f556",
   "metadata": {},
   "outputs": [
    {
     "name": "stdout",
     "output_type": "stream",
     "text": [
      "\n",
      "Comparison:\n",
      "July: 20.75 °C vs May: 15.24 °C\n"
     ]
    }
   ],
   "source": [
    "print(\"\\nComparison:\")\n",
    "print(f\"July: {july_avg_temp:.2f} °C vs May: {may_avg_temp:.2f} °C\")"
   ]
  },
  {
   "cell_type": "code",
   "execution_count": 20,
   "id": "45e6b152",
   "metadata": {},
   "outputs": [
    {
     "data": {
      "image/png": "[encoded data removed]",
      "text/plain": [
       "<Figure size 640x480 with 1 Axes>"
      ]
     },
     "metadata": {},
     "output_type": "display_data"
    }
   ],
   "source": [
    "months = ['May', 'July']\n",
    "avg_temps = [may_avg_temp, july_avg_temp]\n",
    "\n",
    "plt.bar(months, avg_temps)\n",
    "plt.title('Average Temperatures: May vs July')\n",
    "plt.ylabel('Temperature (°C)')\n",
    "plt.show()"
   ]
  }
 ],
 "metadata": {
  "kernelspec": {
   "display_name": "base",
   "language": "python",
   "name": "python3"
  },
  "language_info": {
   "codemirror_mode": {
    "name": "ipython",
    "version": 3
   },
   "file_extension": ".py",
   "mimetype": "text/x-python",
   "name": "python",
   "nbconvert_exporter": "python",
   "pygments_lexer": "ipython3",
   "version": "3.12.2"
  }
 },
 "nbformat": 4,
 "nbformat_minor": 5
}
